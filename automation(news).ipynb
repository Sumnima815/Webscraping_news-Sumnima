{
 "cells": [
  {
   "cell_type": "code",
   "execution_count": 7,
   "metadata": {},
   "outputs": [],
   "source": [
    "import os\n",
    "import time\n",
    "from selenium import webdriver\n",
    "from selenium.webdriver.chrome.options import Options\n",
    "from selenium.webdriver.common.by import By\n",
    "from selenium.webdriver.support.ui import WebDriverWait\n",
    "from selenium.webdriver.support import expected_conditions as EC\n",
    "from selenium.webdriver.common.action_chains import ActionChains\n",
    "from selenium.common.exceptions import TimeoutException,NoSuchElementException\n",
    "from selenium.webdriver.common.keys import Keys"
   ]
  },
  {
   "cell_type": "code",
   "execution_count": 17,
   "metadata": {},
   "outputs": [],
   "source": [
    "def job():\n",
    "    #set the full path for the download directory.\n",
    "    download_directory = os.path.join(os.getcwd(),'NewsToday') #(getcwd->get current working directory)\n",
    "\n",
    "    options = webdriver.ChromeOptions()\n",
    "\n",
    "    prefs = {\n",
    "        'download_default_directory': download_directory,\n",
    "        'plugins.always_open_pdf_externally': True\n",
    "    }\n",
    "    options.add_experimental_option('prefs', prefs)\n",
    "\n",
    "    # option.add_argument(\"--headless\")\n",
    "\n",
    "    driver = webdriver.Chrome(options = options)\n",
    "    driver.get(\"https://epaper.gorkhapatraonline.com/single/gorkhapatra\")\n",
    "\n",
    "    try:\n",
    "        #wait for the pdf link to be present.\n",
    "        pdf_links = WebDriverWait(driver, 20).until(EC.presence_of_all_elements_located((By.XPATH, \"//a[contains(@href,'.pdf')]\")))\n",
    "\n",
    "        for pdf_link in pdf_links:\n",
    "            try:\n",
    "                #Open the link in new tab.\n",
    "                ActionChains(driver).key_down(Keys.CONTROL).click(pdf_link).key_up(Keys.CONTROL).perform()\n",
    "\n",
    "                # key_down---> key press\n",
    "                # key_up-----> key release\n",
    "\n",
    "                # Switch to the new opened pdf link.\n",
    "                driver.switch_to.window(driver.window_handles[-1])   # -1 ---> recently opened.(As in List mah -1 --> last ko.)\n",
    "\n",
    "                #wait until download button is visible.\n",
    "                download_button = WebDriverWait(driver, 10).until(EC.visibility_of_all_elements_located((By.XPATH, \"//button[@id='download' and @title = 'Save']\")))\n",
    "\n",
    "                # Use pyautogui to click on the Download button (ActionChain can also be used bur=t sometimes it maynot work so we use pyautogui)\n",
    "                ActionChains(driver).move_to_element(download_button).click().perform()\n",
    "\n",
    "                #Allow sometime for download to complete.\n",
    "                time.sleep(15)\n",
    "\n",
    "            except (TimeoutException, NoSuchElementException) as e:\n",
    "                print(f\"Error Processing PDF Link: {e}\")\n",
    "\n",
    "\n",
    "            finally:\n",
    "                #close all current tab\n",
    "                driver.close()\n",
    "\n",
    "                #switch back to main tab\n",
    "                driver.switch_to.window(driver.window_handles[0])\n",
    "\n",
    "    finally:\n",
    "        driver.quit()"
   ]
  },
  {
   "cell_type": "code",
   "execution_count": null,
   "metadata": {},
   "outputs": [],
   "source": [
    "# Execute the function directory.\n",
    "job()"
   ]
  },
  {
   "cell_type": "code",
   "execution_count": null,
   "metadata": {},
   "outputs": [],
   "source": []
  },
  {
   "cell_type": "code",
   "execution_count": null,
   "metadata": {},
   "outputs": [],
   "source": [
    "# Issues that can occur:\n",
    "\n",
    "# Version mismatch between webdriver and Chrome."
   ]
  },
  {
   "cell_type": "code",
   "execution_count": null,
   "metadata": {},
   "outputs": [],
   "source": []
  },
  {
   "cell_type": "code",
   "execution_count": null,
   "metadata": {},
   "outputs": [],
   "source": []
  },
  {
   "cell_type": "code",
   "execution_count": null,
   "metadata": {},
   "outputs": [],
   "source": []
  },
  {
   "cell_type": "code",
   "execution_count": null,
   "metadata": {},
   "outputs": [],
   "source": []
  },
  {
   "cell_type": "code",
   "execution_count": null,
   "metadata": {},
   "outputs": [],
   "source": []
  },
  {
   "cell_type": "code",
   "execution_count": null,
   "metadata": {},
   "outputs": [],
   "source": []
  }
 ],
 "metadata": {
  "kernelspec": {
   "display_name": "Tensorflow",
   "language": "python",
   "name": "python3"
  },
  "language_info": {
   "codemirror_mode": {
    "name": "ipython",
    "version": 3
   },
   "file_extension": ".py",
   "mimetype": "text/x-python",
   "name": "python",
   "nbconvert_exporter": "python",
   "pygments_lexer": "ipython3",
   "version": "3.9.19"
  }
 },
 "nbformat": 4,
 "nbformat_minor": 2
}
